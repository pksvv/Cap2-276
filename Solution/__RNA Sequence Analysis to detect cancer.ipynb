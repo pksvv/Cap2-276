{
 "cells": [
  {
   "cell_type": "markdown",
   "metadata": {
    "id": "CsBxw90hAJia"
   },
   "source": [
    "# RNA Sequence Analysis to detect cancer\n",
    "\n",
    "---\n",
    "\n"
   ]
  },
  {
   "cell_type": "code",
   "execution_count": 1,
   "metadata": {
    "id": "c4A2FEbUAJib"
   },
   "outputs": [],
   "source": [
    "import pandas as pd\n",
    "import numpy as np\n",
    "import matplotlib.pyplot as plt\n",
    "import seaborn as sns\n",
    "sns.set()\n",
    "from sklearn.decomposition import PCA\n",
    "from sklearn.discriminant_analysis import LinearDiscriminantAnalysis\n",
    "from sklearn import cluster\n",
    "from sklearn.cluster import KMeans\n",
    "from sklearn.manifold import TSNE\n",
    "from sklearn.preprocessing import StandardScaler\n",
    "from sklearn.model_selection import train_test_split,KFold,cross_val_score\n",
    "from sklearn.preprocessing import LabelEncoder\n",
    "from sklearn.neighbors import KNeighborsClassifier\n",
    "from sklearn.svm import SVC\n",
    "from sklearn.tree import DecisionTreeClassifier, export_graphviz\n",
    "from sklearn.ensemble import RandomForestClassifier\n",
    "from sklearn.linear_model import LogisticRegression\n",
    "from sklearn.naive_bayes import GaussianNB\n",
    "from sklearn.svm import SVC\n",
    "from sklearn.metrics import accuracy_score,confusion_matrix,classification_report\n",
    "\n",
    "from sklearn.model_selection import train_test_split\n",
    "from sklearn.feature_selection import SelectKBest,f_classif"
   ]
  },
  {
   "cell_type": "code",
   "execution_count": 2,
   "metadata": {
    "id": "DWuhSppZAJib",
    "outputId": "af8778ca-93ef-4859-8fb3-e416aee7a15e"
   },
   "outputs": [],
   "source": [
    "from keras.models import Sequential\n",
    "from keras.layers import Dense\n",
    "from keras.wrappers.scikit_learn import KerasClassifier\n",
    "from keras.utils import np_utils\n",
    "from sklearn.preprocessing import LabelEncoder"
   ]
  },
  {
   "cell_type": "markdown",
   "metadata": {
    "id": "ccha7_XcAJie"
   },
   "source": [
    "## 1. Exploratory Data Analysis\n",
    "Dataset is taken from UCI (https://archive.ics.uci.edu/ml/datasets), It has 802 samples, each sample containing expression values of \n",
    "more than 20K genes. Samples are having one of the types of tumor: BRCA, KIRC, COAD, LUAD and PRAD"
   ]
  },
  {
   "cell_type": "code",
   "execution_count": 3,
   "metadata": {
    "id": "veaMxiJ-AJie"
   },
   "outputs": [],
   "source": [
    "rna_exp = pd.read_csv('../Dataset/data.csv', index_col=[0])\n",
    "labels = pd.read_csv('../Dataset/labels.csv', index_col=[0])"
   ]
  },
  {
   "cell_type": "code",
   "execution_count": 4,
   "metadata": {
    "id": "nx4zFtPoAJie",
    "outputId": "6dc2d24f-c580-485b-99fe-3d76fda87cb4"
   },
   "outputs": [
    {
     "data": {
      "text/html": [
       "<div>\n",
       "<style scoped>\n",
       "    .dataframe tbody tr th:only-of-type {\n",
       "        vertical-align: middle;\n",
       "    }\n",
       "\n",
       "    .dataframe tbody tr th {\n",
       "        vertical-align: top;\n",
       "    }\n",
       "\n",
       "    .dataframe thead th {\n",
       "        text-align: right;\n",
       "    }\n",
       "</style>\n",
       "<table border=\"1\" class=\"dataframe\">\n",
       "  <thead>\n",
       "    <tr style=\"text-align: right;\">\n",
       "      <th></th>\n",
       "      <th>gene_0</th>\n",
       "      <th>gene_1</th>\n",
       "      <th>gene_2</th>\n",
       "      <th>gene_3</th>\n",
       "      <th>gene_4</th>\n",
       "      <th>gene_5</th>\n",
       "      <th>gene_6</th>\n",
       "      <th>gene_7</th>\n",
       "      <th>gene_8</th>\n",
       "      <th>gene_9</th>\n",
       "      <th>...</th>\n",
       "      <th>gene_20521</th>\n",
       "      <th>gene_20522</th>\n",
       "      <th>gene_20523</th>\n",
       "      <th>gene_20524</th>\n",
       "      <th>gene_20525</th>\n",
       "      <th>gene_20526</th>\n",
       "      <th>gene_20527</th>\n",
       "      <th>gene_20528</th>\n",
       "      <th>gene_20529</th>\n",
       "      <th>gene_20530</th>\n",
       "    </tr>\n",
       "  </thead>\n",
       "  <tbody>\n",
       "    <tr>\n",
       "      <th>sample_0</th>\n",
       "      <td>0.0</td>\n",
       "      <td>2.017209</td>\n",
       "      <td>3.265527</td>\n",
       "      <td>5.478487</td>\n",
       "      <td>10.431999</td>\n",
       "      <td>0.0</td>\n",
       "      <td>7.175175</td>\n",
       "      <td>0.591871</td>\n",
       "      <td>0.0</td>\n",
       "      <td>0.0</td>\n",
       "      <td>...</td>\n",
       "      <td>4.926711</td>\n",
       "      <td>8.210257</td>\n",
       "      <td>9.723516</td>\n",
       "      <td>7.220030</td>\n",
       "      <td>9.119813</td>\n",
       "      <td>12.003135</td>\n",
       "      <td>9.650743</td>\n",
       "      <td>8.921326</td>\n",
       "      <td>5.286759</td>\n",
       "      <td>0.0</td>\n",
       "    </tr>\n",
       "    <tr>\n",
       "      <th>sample_1</th>\n",
       "      <td>0.0</td>\n",
       "      <td>0.592732</td>\n",
       "      <td>1.588421</td>\n",
       "      <td>7.586157</td>\n",
       "      <td>9.623011</td>\n",
       "      <td>0.0</td>\n",
       "      <td>6.816049</td>\n",
       "      <td>0.000000</td>\n",
       "      <td>0.0</td>\n",
       "      <td>0.0</td>\n",
       "      <td>...</td>\n",
       "      <td>4.593372</td>\n",
       "      <td>7.323865</td>\n",
       "      <td>9.740931</td>\n",
       "      <td>6.256586</td>\n",
       "      <td>8.381612</td>\n",
       "      <td>12.674552</td>\n",
       "      <td>10.517059</td>\n",
       "      <td>9.397854</td>\n",
       "      <td>2.094168</td>\n",
       "      <td>0.0</td>\n",
       "    </tr>\n",
       "    <tr>\n",
       "      <th>sample_2</th>\n",
       "      <td>0.0</td>\n",
       "      <td>3.511759</td>\n",
       "      <td>4.327199</td>\n",
       "      <td>6.881787</td>\n",
       "      <td>9.870730</td>\n",
       "      <td>0.0</td>\n",
       "      <td>6.972130</td>\n",
       "      <td>0.452595</td>\n",
       "      <td>0.0</td>\n",
       "      <td>0.0</td>\n",
       "      <td>...</td>\n",
       "      <td>5.125213</td>\n",
       "      <td>8.127123</td>\n",
       "      <td>10.908640</td>\n",
       "      <td>5.401607</td>\n",
       "      <td>9.911597</td>\n",
       "      <td>9.045255</td>\n",
       "      <td>9.788359</td>\n",
       "      <td>10.090470</td>\n",
       "      <td>1.683023</td>\n",
       "      <td>0.0</td>\n",
       "    </tr>\n",
       "    <tr>\n",
       "      <th>sample_3</th>\n",
       "      <td>0.0</td>\n",
       "      <td>3.663618</td>\n",
       "      <td>4.507649</td>\n",
       "      <td>6.659068</td>\n",
       "      <td>10.196184</td>\n",
       "      <td>0.0</td>\n",
       "      <td>7.843375</td>\n",
       "      <td>0.434882</td>\n",
       "      <td>0.0</td>\n",
       "      <td>0.0</td>\n",
       "      <td>...</td>\n",
       "      <td>6.076566</td>\n",
       "      <td>8.792959</td>\n",
       "      <td>10.141520</td>\n",
       "      <td>8.942805</td>\n",
       "      <td>9.601208</td>\n",
       "      <td>11.392682</td>\n",
       "      <td>9.694814</td>\n",
       "      <td>9.684365</td>\n",
       "      <td>3.292001</td>\n",
       "      <td>0.0</td>\n",
       "    </tr>\n",
       "    <tr>\n",
       "      <th>sample_4</th>\n",
       "      <td>0.0</td>\n",
       "      <td>2.655741</td>\n",
       "      <td>2.821547</td>\n",
       "      <td>6.539454</td>\n",
       "      <td>9.738265</td>\n",
       "      <td>0.0</td>\n",
       "      <td>6.566967</td>\n",
       "      <td>0.360982</td>\n",
       "      <td>0.0</td>\n",
       "      <td>0.0</td>\n",
       "      <td>...</td>\n",
       "      <td>5.996032</td>\n",
       "      <td>8.891425</td>\n",
       "      <td>10.373790</td>\n",
       "      <td>7.181162</td>\n",
       "      <td>9.846910</td>\n",
       "      <td>11.922439</td>\n",
       "      <td>9.217749</td>\n",
       "      <td>9.461191</td>\n",
       "      <td>5.110372</td>\n",
       "      <td>0.0</td>\n",
       "    </tr>\n",
       "  </tbody>\n",
       "</table>\n",
       "<p>5 rows × 20531 columns</p>\n",
       "</div>"
      ],
      "text/plain": [
       "          gene_0    gene_1    gene_2    gene_3     gene_4  gene_5    gene_6  \\\n",
       "sample_0     0.0  2.017209  3.265527  5.478487  10.431999     0.0  7.175175   \n",
       "sample_1     0.0  0.592732  1.588421  7.586157   9.623011     0.0  6.816049   \n",
       "sample_2     0.0  3.511759  4.327199  6.881787   9.870730     0.0  6.972130   \n",
       "sample_3     0.0  3.663618  4.507649  6.659068  10.196184     0.0  7.843375   \n",
       "sample_4     0.0  2.655741  2.821547  6.539454   9.738265     0.0  6.566967   \n",
       "\n",
       "            gene_7  gene_8  gene_9  ...  gene_20521  gene_20522  gene_20523  \\\n",
       "sample_0  0.591871     0.0     0.0  ...    4.926711    8.210257    9.723516   \n",
       "sample_1  0.000000     0.0     0.0  ...    4.593372    7.323865    9.740931   \n",
       "sample_2  0.452595     0.0     0.0  ...    5.125213    8.127123   10.908640   \n",
       "sample_3  0.434882     0.0     0.0  ...    6.076566    8.792959   10.141520   \n",
       "sample_4  0.360982     0.0     0.0  ...    5.996032    8.891425   10.373790   \n",
       "\n",
       "          gene_20524  gene_20525  gene_20526  gene_20527  gene_20528  \\\n",
       "sample_0    7.220030    9.119813   12.003135    9.650743    8.921326   \n",
       "sample_1    6.256586    8.381612   12.674552   10.517059    9.397854   \n",
       "sample_2    5.401607    9.911597    9.045255    9.788359   10.090470   \n",
       "sample_3    8.942805    9.601208   11.392682    9.694814    9.684365   \n",
       "sample_4    7.181162    9.846910   11.922439    9.217749    9.461191   \n",
       "\n",
       "          gene_20529  gene_20530  \n",
       "sample_0    5.286759         0.0  \n",
       "sample_1    2.094168         0.0  \n",
       "sample_2    1.683023         0.0  \n",
       "sample_3    3.292001         0.0  \n",
       "sample_4    5.110372         0.0  \n",
       "\n",
       "[5 rows x 20531 columns]"
      ]
     },
     "execution_count": 4,
     "metadata": {},
     "output_type": "execute_result"
    }
   ],
   "source": [
    "rna_exp.head()"
   ]
  },
  {
   "cell_type": "code",
   "execution_count": 5,
   "metadata": {
    "id": "9G-Ene0CAJif",
    "outputId": "5787bcf2-9015-48eb-f73a-b6fe25b680cb"
   },
   "outputs": [
    {
     "data": {
      "text/html": [
       "<div>\n",
       "<style scoped>\n",
       "    .dataframe tbody tr th:only-of-type {\n",
       "        vertical-align: middle;\n",
       "    }\n",
       "\n",
       "    .dataframe tbody tr th {\n",
       "        vertical-align: top;\n",
       "    }\n",
       "\n",
       "    .dataframe thead th {\n",
       "        text-align: right;\n",
       "    }\n",
       "</style>\n",
       "<table border=\"1\" class=\"dataframe\">\n",
       "  <thead>\n",
       "    <tr style=\"text-align: right;\">\n",
       "      <th></th>\n",
       "      <th>Class</th>\n",
       "    </tr>\n",
       "  </thead>\n",
       "  <tbody>\n",
       "    <tr>\n",
       "      <th>sample_0</th>\n",
       "      <td>PRAD</td>\n",
       "    </tr>\n",
       "    <tr>\n",
       "      <th>sample_1</th>\n",
       "      <td>LUAD</td>\n",
       "    </tr>\n",
       "    <tr>\n",
       "      <th>sample_2</th>\n",
       "      <td>PRAD</td>\n",
       "    </tr>\n",
       "    <tr>\n",
       "      <th>sample_3</th>\n",
       "      <td>PRAD</td>\n",
       "    </tr>\n",
       "    <tr>\n",
       "      <th>sample_4</th>\n",
       "      <td>BRCA</td>\n",
       "    </tr>\n",
       "  </tbody>\n",
       "</table>\n",
       "</div>"
      ],
      "text/plain": [
       "         Class\n",
       "sample_0  PRAD\n",
       "sample_1  LUAD\n",
       "sample_2  PRAD\n",
       "sample_3  PRAD\n",
       "sample_4  BRCA"
      ]
     },
     "execution_count": 5,
     "metadata": {},
     "output_type": "execute_result"
    }
   ],
   "source": [
    "labels.head()"
   ]
  },
  {
   "cell_type": "code",
   "execution_count": 6,
   "metadata": {
    "id": "bd6aRN7lAJif",
    "outputId": "4dd2cf32-fc5e-4d9e-9fd5-3a6c50898d51"
   },
   "outputs": [
    {
     "data": {
      "text/plain": [
       "array(['PRAD', 'LUAD', 'BRCA', 'KIRC', 'COAD'], dtype=object)"
      ]
     },
     "execution_count": 6,
     "metadata": {},
     "output_type": "execute_result"
    }
   ],
   "source": [
    "pd.unique(labels.Class)"
   ]
  },
  {
   "cell_type": "markdown",
   "metadata": {
    "id": "cVtELbv9AJif"
   },
   "source": [
    "Hence total 5 unique cancer type we have to clusterise and categorise."
   ]
  },
  {
   "cell_type": "markdown",
   "metadata": {
    "id": "Tsxo9zqEAJif"
   },
   "source": [
    "Different gene expression like gene_0,gene_1 or called levels tells us the variability between different samples, in RNA sequence data analysis, the gene expression value of one sample represents the mean of all expression values of the bulk population of cells.\n",
    "So if the data have large mean for one of the gene then mean of all the bulk population is also higher and vice-versa."
   ]
  },
  {
   "cell_type": "markdown",
   "metadata": {
    "id": "kL7_EEBtAJig"
   },
   "source": [
    "### Merging both the data"
   ]
  },
  {
   "cell_type": "code",
   "execution_count": 7,
   "metadata": {
    "id": "0p705g49AJig",
    "outputId": "06fbb47d-8a2f-463c-9995-cf5a0d07ded1"
   },
   "outputs": [
    {
     "data": {
      "text/plain": [
       "(801, 20532)"
      ]
     },
     "execution_count": 7,
     "metadata": {},
     "output_type": "execute_result"
    }
   ],
   "source": [
    "rna_merged = pd.concat([rna_exp, labels], axis=1)\n",
    "rna_merged.shape"
   ]
  },
  {
   "cell_type": "markdown",
   "metadata": {
    "id": "I1jyTpb-AJig"
   },
   "source": [
    "### Hence total unique sample is 801"
   ]
  },
  {
   "cell_type": "code",
   "execution_count": 8,
   "metadata": {
    "id": "5Pbszv1NAJig"
   },
   "outputs": [],
   "source": [
    "exp = rna_merged.set_index('Class').sort_index()"
   ]
  },
  {
   "cell_type": "code",
   "execution_count": 9,
   "metadata": {
    "id": "UYnAjtKIAJig",
    "outputId": "de918559-0025-4b9f-d4f7-014b2281f225"
   },
   "outputs": [
    {
     "data": {
      "text/html": [
       "<div>\n",
       "<style scoped>\n",
       "    .dataframe tbody tr th:only-of-type {\n",
       "        vertical-align: middle;\n",
       "    }\n",
       "\n",
       "    .dataframe tbody tr th {\n",
       "        vertical-align: top;\n",
       "    }\n",
       "\n",
       "    .dataframe thead th {\n",
       "        text-align: right;\n",
       "    }\n",
       "</style>\n",
       "<table border=\"1\" class=\"dataframe\">\n",
       "  <thead>\n",
       "    <tr style=\"text-align: right;\">\n",
       "      <th></th>\n",
       "      <th>gene_0</th>\n",
       "      <th>gene_1</th>\n",
       "      <th>gene_2</th>\n",
       "      <th>gene_3</th>\n",
       "      <th>gene_4</th>\n",
       "      <th>gene_5</th>\n",
       "      <th>gene_6</th>\n",
       "      <th>gene_7</th>\n",
       "      <th>gene_8</th>\n",
       "      <th>gene_9</th>\n",
       "      <th>...</th>\n",
       "      <th>gene_20521</th>\n",
       "      <th>gene_20522</th>\n",
       "      <th>gene_20523</th>\n",
       "      <th>gene_20524</th>\n",
       "      <th>gene_20525</th>\n",
       "      <th>gene_20526</th>\n",
       "      <th>gene_20527</th>\n",
       "      <th>gene_20528</th>\n",
       "      <th>gene_20529</th>\n",
       "      <th>gene_20530</th>\n",
       "    </tr>\n",
       "    <tr>\n",
       "      <th>Class</th>\n",
       "      <th></th>\n",
       "      <th></th>\n",
       "      <th></th>\n",
       "      <th></th>\n",
       "      <th></th>\n",
       "      <th></th>\n",
       "      <th></th>\n",
       "      <th></th>\n",
       "      <th></th>\n",
       "      <th></th>\n",
       "      <th></th>\n",
       "      <th></th>\n",
       "      <th></th>\n",
       "      <th></th>\n",
       "      <th></th>\n",
       "      <th></th>\n",
       "      <th></th>\n",
       "      <th></th>\n",
       "      <th></th>\n",
       "      <th></th>\n",
       "      <th></th>\n",
       "    </tr>\n",
       "  </thead>\n",
       "  <tbody>\n",
       "    <tr>\n",
       "      <th>BRCA</th>\n",
       "      <td>0.0</td>\n",
       "      <td>3.801873</td>\n",
       "      <td>5.025591</td>\n",
       "      <td>6.404150</td>\n",
       "      <td>9.564754</td>\n",
       "      <td>0.0</td>\n",
       "      <td>9.997688</td>\n",
       "      <td>1.025241</td>\n",
       "      <td>0.0</td>\n",
       "      <td>0.0</td>\n",
       "      <td>...</td>\n",
       "      <td>5.919628</td>\n",
       "      <td>8.507347</td>\n",
       "      <td>9.849333</td>\n",
       "      <td>8.184360</td>\n",
       "      <td>9.796564</td>\n",
       "      <td>11.607552</td>\n",
       "      <td>10.456272</td>\n",
       "      <td>9.949412</td>\n",
       "      <td>5.980037</td>\n",
       "      <td>0.000000</td>\n",
       "    </tr>\n",
       "    <tr>\n",
       "      <th>BRCA</th>\n",
       "      <td>0.0</td>\n",
       "      <td>3.277330</td>\n",
       "      <td>2.629846</td>\n",
       "      <td>6.000487</td>\n",
       "      <td>9.627027</td>\n",
       "      <td>0.0</td>\n",
       "      <td>8.375748</td>\n",
       "      <td>1.029559</td>\n",
       "      <td>0.0</td>\n",
       "      <td>0.0</td>\n",
       "      <td>...</td>\n",
       "      <td>6.152192</td>\n",
       "      <td>9.015499</td>\n",
       "      <td>10.244994</td>\n",
       "      <td>5.172335</td>\n",
       "      <td>9.788066</td>\n",
       "      <td>11.582057</td>\n",
       "      <td>11.098776</td>\n",
       "      <td>9.909158</td>\n",
       "      <td>5.494595</td>\n",
       "      <td>0.000000</td>\n",
       "    </tr>\n",
       "    <tr>\n",
       "      <th>BRCA</th>\n",
       "      <td>0.0</td>\n",
       "      <td>1.149975</td>\n",
       "      <td>0.462576</td>\n",
       "      <td>5.861427</td>\n",
       "      <td>10.092440</td>\n",
       "      <td>0.0</td>\n",
       "      <td>5.445833</td>\n",
       "      <td>1.045932</td>\n",
       "      <td>0.0</td>\n",
       "      <td>0.0</td>\n",
       "      <td>...</td>\n",
       "      <td>6.494526</td>\n",
       "      <td>9.549727</td>\n",
       "      <td>10.037602</td>\n",
       "      <td>6.636375</td>\n",
       "      <td>9.459339</td>\n",
       "      <td>10.109922</td>\n",
       "      <td>10.442394</td>\n",
       "      <td>9.574616</td>\n",
       "      <td>3.541862</td>\n",
       "      <td>0.000000</td>\n",
       "    </tr>\n",
       "    <tr>\n",
       "      <th>BRCA</th>\n",
       "      <td>0.0</td>\n",
       "      <td>4.538159</td>\n",
       "      <td>3.955722</td>\n",
       "      <td>6.259862</td>\n",
       "      <td>9.103243</td>\n",
       "      <td>0.0</td>\n",
       "      <td>6.918327</td>\n",
       "      <td>1.162726</td>\n",
       "      <td>0.0</td>\n",
       "      <td>0.0</td>\n",
       "      <td>...</td>\n",
       "      <td>7.102994</td>\n",
       "      <td>9.813018</td>\n",
       "      <td>10.629311</td>\n",
       "      <td>7.128757</td>\n",
       "      <td>10.409104</td>\n",
       "      <td>11.195225</td>\n",
       "      <td>11.169593</td>\n",
       "      <td>10.513451</td>\n",
       "      <td>6.729131</td>\n",
       "      <td>0.270828</td>\n",
       "    </tr>\n",
       "    <tr>\n",
       "      <th>BRCA</th>\n",
       "      <td>0.0</td>\n",
       "      <td>2.599770</td>\n",
       "      <td>2.562792</td>\n",
       "      <td>7.365491</td>\n",
       "      <td>10.462155</td>\n",
       "      <td>0.0</td>\n",
       "      <td>7.922370</td>\n",
       "      <td>0.000000</td>\n",
       "      <td>0.0</td>\n",
       "      <td>0.0</td>\n",
       "      <td>...</td>\n",
       "      <td>5.036873</td>\n",
       "      <td>8.267555</td>\n",
       "      <td>9.630254</td>\n",
       "      <td>5.531385</td>\n",
       "      <td>9.241642</td>\n",
       "      <td>11.459872</td>\n",
       "      <td>10.045882</td>\n",
       "      <td>9.091528</td>\n",
       "      <td>9.356654</td>\n",
       "      <td>0.000000</td>\n",
       "    </tr>\n",
       "  </tbody>\n",
       "</table>\n",
       "<p>5 rows × 20531 columns</p>\n",
       "</div>"
      ],
      "text/plain": [
       "       gene_0    gene_1    gene_2    gene_3     gene_4  gene_5    gene_6  \\\n",
       "Class                                                                      \n",
       "BRCA      0.0  3.801873  5.025591  6.404150   9.564754     0.0  9.997688   \n",
       "BRCA      0.0  3.277330  2.629846  6.000487   9.627027     0.0  8.375748   \n",
       "BRCA      0.0  1.149975  0.462576  5.861427  10.092440     0.0  5.445833   \n",
       "BRCA      0.0  4.538159  3.955722  6.259862   9.103243     0.0  6.918327   \n",
       "BRCA      0.0  2.599770  2.562792  7.365491  10.462155     0.0  7.922370   \n",
       "\n",
       "         gene_7  gene_8  gene_9  ...  gene_20521  gene_20522  gene_20523  \\\n",
       "Class                            ...                                       \n",
       "BRCA   1.025241     0.0     0.0  ...    5.919628    8.507347    9.849333   \n",
       "BRCA   1.029559     0.0     0.0  ...    6.152192    9.015499   10.244994   \n",
       "BRCA   1.045932     0.0     0.0  ...    6.494526    9.549727   10.037602   \n",
       "BRCA   1.162726     0.0     0.0  ...    7.102994    9.813018   10.629311   \n",
       "BRCA   0.000000     0.0     0.0  ...    5.036873    8.267555    9.630254   \n",
       "\n",
       "       gene_20524  gene_20525  gene_20526  gene_20527  gene_20528  gene_20529  \\\n",
       "Class                                                                           \n",
       "BRCA     8.184360    9.796564   11.607552   10.456272    9.949412    5.980037   \n",
       "BRCA     5.172335    9.788066   11.582057   11.098776    9.909158    5.494595   \n",
       "BRCA     6.636375    9.459339   10.109922   10.442394    9.574616    3.541862   \n",
       "BRCA     7.128757   10.409104   11.195225   11.169593   10.513451    6.729131   \n",
       "BRCA     5.531385    9.241642   11.459872   10.045882    9.091528    9.356654   \n",
       "\n",
       "       gene_20530  \n",
       "Class              \n",
       "BRCA     0.000000  \n",
       "BRCA     0.000000  \n",
       "BRCA     0.000000  \n",
       "BRCA     0.270828  \n",
       "BRCA     0.000000  \n",
       "\n",
       "[5 rows x 20531 columns]"
      ]
     },
     "execution_count": 9,
     "metadata": {},
     "output_type": "execute_result"
    }
   ],
   "source": [
    "exp.head()"
   ]
  },
  {
   "cell_type": "code",
   "execution_count": 10,
   "metadata": {
    "id": "SzNqzjzcAJig",
    "outputId": "18b0b0c6-15fd-407b-d3b5-3083c21ed8bd"
   },
   "outputs": [
    {
     "data": {
      "text/plain": [
       "(801, 20531)"
      ]
     },
     "execution_count": 10,
     "metadata": {},
     "output_type": "execute_result"
    }
   ],
   "source": [
    "exp.shape"
   ]
  },
  {
   "cell_type": "markdown",
   "metadata": {
    "id": "DeiWxrhcAJig"
   },
   "source": [
    "Let we check whether we have any null value in data and description which give us more details about it."
   ]
  },
  {
   "cell_type": "code",
   "execution_count": 11,
   "metadata": {
    "id": "Q6L5MVHUAJih",
    "outputId": "e3736eb1-7afe-43a0-ff67-1aae956d32c2"
   },
   "outputs": [
    {
     "data": {
      "text/html": [
       "<div>\n",
       "<style scoped>\n",
       "    .dataframe tbody tr th:only-of-type {\n",
       "        vertical-align: middle;\n",
       "    }\n",
       "\n",
       "    .dataframe tbody tr th {\n",
       "        vertical-align: top;\n",
       "    }\n",
       "\n",
       "    .dataframe thead th {\n",
       "        text-align: right;\n",
       "    }\n",
       "</style>\n",
       "<table border=\"1\" class=\"dataframe\">\n",
       "  <thead>\n",
       "    <tr style=\"text-align: right;\">\n",
       "      <th></th>\n",
       "      <th>gene_0</th>\n",
       "      <th>gene_1</th>\n",
       "      <th>gene_2</th>\n",
       "      <th>gene_3</th>\n",
       "      <th>gene_4</th>\n",
       "      <th>gene_5</th>\n",
       "      <th>gene_6</th>\n",
       "      <th>gene_7</th>\n",
       "      <th>gene_8</th>\n",
       "      <th>gene_9</th>\n",
       "      <th>...</th>\n",
       "      <th>gene_20521</th>\n",
       "      <th>gene_20522</th>\n",
       "      <th>gene_20523</th>\n",
       "      <th>gene_20524</th>\n",
       "      <th>gene_20525</th>\n",
       "      <th>gene_20526</th>\n",
       "      <th>gene_20527</th>\n",
       "      <th>gene_20528</th>\n",
       "      <th>gene_20529</th>\n",
       "      <th>gene_20530</th>\n",
       "    </tr>\n",
       "  </thead>\n",
       "  <tbody>\n",
       "    <tr>\n",
       "      <th>count</th>\n",
       "      <td>801.000000</td>\n",
       "      <td>801.000000</td>\n",
       "      <td>801.000000</td>\n",
       "      <td>801.000000</td>\n",
       "      <td>801.000000</td>\n",
       "      <td>801.0</td>\n",
       "      <td>801.000000</td>\n",
       "      <td>801.000000</td>\n",
       "      <td>801.000000</td>\n",
       "      <td>801.000000</td>\n",
       "      <td>...</td>\n",
       "      <td>801.000000</td>\n",
       "      <td>801.000000</td>\n",
       "      <td>801.000000</td>\n",
       "      <td>801.000000</td>\n",
       "      <td>801.000000</td>\n",
       "      <td>801.000000</td>\n",
       "      <td>801.000000</td>\n",
       "      <td>801.000000</td>\n",
       "      <td>801.000000</td>\n",
       "      <td>801.000000</td>\n",
       "    </tr>\n",
       "    <tr>\n",
       "      <th>mean</th>\n",
       "      <td>0.026642</td>\n",
       "      <td>3.010909</td>\n",
       "      <td>3.095350</td>\n",
       "      <td>6.722305</td>\n",
       "      <td>9.813612</td>\n",
       "      <td>0.0</td>\n",
       "      <td>7.405509</td>\n",
       "      <td>0.499882</td>\n",
       "      <td>0.016744</td>\n",
       "      <td>0.013428</td>\n",
       "      <td>...</td>\n",
       "      <td>5.896573</td>\n",
       "      <td>8.765891</td>\n",
       "      <td>10.056252</td>\n",
       "      <td>4.847727</td>\n",
       "      <td>9.741987</td>\n",
       "      <td>11.742228</td>\n",
       "      <td>10.155271</td>\n",
       "      <td>9.590726</td>\n",
       "      <td>5.528177</td>\n",
       "      <td>0.095411</td>\n",
       "    </tr>\n",
       "    <tr>\n",
       "      <th>std</th>\n",
       "      <td>0.136850</td>\n",
       "      <td>1.200828</td>\n",
       "      <td>1.065601</td>\n",
       "      <td>0.638819</td>\n",
       "      <td>0.506537</td>\n",
       "      <td>0.0</td>\n",
       "      <td>1.108237</td>\n",
       "      <td>0.508799</td>\n",
       "      <td>0.133635</td>\n",
       "      <td>0.204722</td>\n",
       "      <td>...</td>\n",
       "      <td>0.746399</td>\n",
       "      <td>0.603176</td>\n",
       "      <td>0.379278</td>\n",
       "      <td>2.382728</td>\n",
       "      <td>0.533898</td>\n",
       "      <td>0.670371</td>\n",
       "      <td>0.580569</td>\n",
       "      <td>0.563849</td>\n",
       "      <td>2.073859</td>\n",
       "      <td>0.364529</td>\n",
       "    </tr>\n",
       "    <tr>\n",
       "      <th>min</th>\n",
       "      <td>0.000000</td>\n",
       "      <td>0.000000</td>\n",
       "      <td>0.000000</td>\n",
       "      <td>5.009284</td>\n",
       "      <td>8.435999</td>\n",
       "      <td>0.0</td>\n",
       "      <td>3.930747</td>\n",
       "      <td>0.000000</td>\n",
       "      <td>0.000000</td>\n",
       "      <td>0.000000</td>\n",
       "      <td>...</td>\n",
       "      <td>2.853517</td>\n",
       "      <td>6.678368</td>\n",
       "      <td>8.669456</td>\n",
       "      <td>0.000000</td>\n",
       "      <td>7.974942</td>\n",
       "      <td>9.045255</td>\n",
       "      <td>7.530141</td>\n",
       "      <td>7.864533</td>\n",
       "      <td>0.593975</td>\n",
       "      <td>0.000000</td>\n",
       "    </tr>\n",
       "    <tr>\n",
       "      <th>25%</th>\n",
       "      <td>0.000000</td>\n",
       "      <td>2.299039</td>\n",
       "      <td>2.390365</td>\n",
       "      <td>6.303346</td>\n",
       "      <td>9.464466</td>\n",
       "      <td>0.0</td>\n",
       "      <td>6.676042</td>\n",
       "      <td>0.000000</td>\n",
       "      <td>0.000000</td>\n",
       "      <td>0.000000</td>\n",
       "      <td>...</td>\n",
       "      <td>5.454926</td>\n",
       "      <td>8.383834</td>\n",
       "      <td>9.826027</td>\n",
       "      <td>3.130750</td>\n",
       "      <td>9.400747</td>\n",
       "      <td>11.315857</td>\n",
       "      <td>9.836525</td>\n",
       "      <td>9.244219</td>\n",
       "      <td>4.092385</td>\n",
       "      <td>0.000000</td>\n",
       "    </tr>\n",
       "    <tr>\n",
       "      <th>50%</th>\n",
       "      <td>0.000000</td>\n",
       "      <td>3.143687</td>\n",
       "      <td>3.127006</td>\n",
       "      <td>6.655893</td>\n",
       "      <td>9.791599</td>\n",
       "      <td>0.0</td>\n",
       "      <td>7.450114</td>\n",
       "      <td>0.443076</td>\n",
       "      <td>0.000000</td>\n",
       "      <td>0.000000</td>\n",
       "      <td>...</td>\n",
       "      <td>5.972582</td>\n",
       "      <td>8.784144</td>\n",
       "      <td>10.066385</td>\n",
       "      <td>5.444935</td>\n",
       "      <td>9.784524</td>\n",
       "      <td>11.749802</td>\n",
       "      <td>10.191207</td>\n",
       "      <td>9.566511</td>\n",
       "      <td>5.218618</td>\n",
       "      <td>0.000000</td>\n",
       "    </tr>\n",
       "    <tr>\n",
       "      <th>75%</th>\n",
       "      <td>0.000000</td>\n",
       "      <td>3.883484</td>\n",
       "      <td>3.802534</td>\n",
       "      <td>7.038447</td>\n",
       "      <td>10.142324</td>\n",
       "      <td>0.0</td>\n",
       "      <td>8.121984</td>\n",
       "      <td>0.789354</td>\n",
       "      <td>0.000000</td>\n",
       "      <td>0.000000</td>\n",
       "      <td>...</td>\n",
       "      <td>6.411292</td>\n",
       "      <td>9.147136</td>\n",
       "      <td>10.299025</td>\n",
       "      <td>6.637412</td>\n",
       "      <td>10.082269</td>\n",
       "      <td>12.177852</td>\n",
       "      <td>10.578561</td>\n",
       "      <td>9.917888</td>\n",
       "      <td>6.876382</td>\n",
       "      <td>0.000000</td>\n",
       "    </tr>\n",
       "    <tr>\n",
       "      <th>max</th>\n",
       "      <td>1.482332</td>\n",
       "      <td>6.237034</td>\n",
       "      <td>6.063484</td>\n",
       "      <td>10.129528</td>\n",
       "      <td>11.355621</td>\n",
       "      <td>0.0</td>\n",
       "      <td>10.718190</td>\n",
       "      <td>2.779008</td>\n",
       "      <td>1.785592</td>\n",
       "      <td>4.067604</td>\n",
       "      <td>...</td>\n",
       "      <td>7.771054</td>\n",
       "      <td>11.105431</td>\n",
       "      <td>11.318243</td>\n",
       "      <td>9.207495</td>\n",
       "      <td>11.811632</td>\n",
       "      <td>13.715361</td>\n",
       "      <td>11.675653</td>\n",
       "      <td>12.813320</td>\n",
       "      <td>11.205836</td>\n",
       "      <td>5.254133</td>\n",
       "    </tr>\n",
       "  </tbody>\n",
       "</table>\n",
       "<p>8 rows × 20531 columns</p>\n",
       "</div>"
      ],
      "text/plain": [
       "           gene_0      gene_1      gene_2      gene_3      gene_4  gene_5  \\\n",
       "count  801.000000  801.000000  801.000000  801.000000  801.000000   801.0   \n",
       "mean     0.026642    3.010909    3.095350    6.722305    9.813612     0.0   \n",
       "std      0.136850    1.200828    1.065601    0.638819    0.506537     0.0   \n",
       "min      0.000000    0.000000    0.000000    5.009284    8.435999     0.0   \n",
       "25%      0.000000    2.299039    2.390365    6.303346    9.464466     0.0   \n",
       "50%      0.000000    3.143687    3.127006    6.655893    9.791599     0.0   \n",
       "75%      0.000000    3.883484    3.802534    7.038447   10.142324     0.0   \n",
       "max      1.482332    6.237034    6.063484   10.129528   11.355621     0.0   \n",
       "\n",
       "           gene_6      gene_7      gene_8      gene_9  ...  gene_20521  \\\n",
       "count  801.000000  801.000000  801.000000  801.000000  ...  801.000000   \n",
       "mean     7.405509    0.499882    0.016744    0.013428  ...    5.896573   \n",
       "std      1.108237    0.508799    0.133635    0.204722  ...    0.746399   \n",
       "min      3.930747    0.000000    0.000000    0.000000  ...    2.853517   \n",
       "25%      6.676042    0.000000    0.000000    0.000000  ...    5.454926   \n",
       "50%      7.450114    0.443076    0.000000    0.000000  ...    5.972582   \n",
       "75%      8.121984    0.789354    0.000000    0.000000  ...    6.411292   \n",
       "max     10.718190    2.779008    1.785592    4.067604  ...    7.771054   \n",
       "\n",
       "       gene_20522  gene_20523  gene_20524  gene_20525  gene_20526  gene_20527  \\\n",
       "count  801.000000  801.000000  801.000000  801.000000  801.000000  801.000000   \n",
       "mean     8.765891   10.056252    4.847727    9.741987   11.742228   10.155271   \n",
       "std      0.603176    0.379278    2.382728    0.533898    0.670371    0.580569   \n",
       "min      6.678368    8.669456    0.000000    7.974942    9.045255    7.530141   \n",
       "25%      8.383834    9.826027    3.130750    9.400747   11.315857    9.836525   \n",
       "50%      8.784144   10.066385    5.444935    9.784524   11.749802   10.191207   \n",
       "75%      9.147136   10.299025    6.637412   10.082269   12.177852   10.578561   \n",
       "max     11.105431   11.318243    9.207495   11.811632   13.715361   11.675653   \n",
       "\n",
       "       gene_20528  gene_20529  gene_20530  \n",
       "count  801.000000  801.000000  801.000000  \n",
       "mean     9.590726    5.528177    0.095411  \n",
       "std      0.563849    2.073859    0.364529  \n",
       "min      7.864533    0.593975    0.000000  \n",
       "25%      9.244219    4.092385    0.000000  \n",
       "50%      9.566511    5.218618    0.000000  \n",
       "75%      9.917888    6.876382    0.000000  \n",
       "max     12.813320   11.205836    5.254133  \n",
       "\n",
       "[8 rows x 20531 columns]"
      ]
     },
     "execution_count": 11,
     "metadata": {},
     "output_type": "execute_result"
    }
   ],
   "source": [
    "#->\n",
    "exp.describe()"
   ]
  },
  {
   "cell_type": "markdown",
   "metadata": {
    "id": "hzwbp4U8AJih"
   },
   "source": [
    "So as we can see the data values are ranges from 0 to more than 2 digit magnitude."
   ]
  },
  {
   "cell_type": "code",
   "execution_count": 12,
   "metadata": {
    "id": "yk7Q0FrrAJih",
    "outputId": "480a8d6c-68f4-47cd-df8e-a51774d80be5",
    "scrolled": true
   },
   "outputs": [
    {
     "name": "stdout",
     "output_type": "stream",
     "text": [
      "<class 'pandas.core.frame.DataFrame'>\n",
      "Index: 801 entries, BRCA to PRAD\n",
      "Columns: 20531 entries, gene_0 to gene_20530\n",
      "dtypes: float64(20531)\n",
      "memory usage: 125.5+ MB\n"
     ]
    }
   ],
   "source": [
    "exp.info()"
   ]
  },
  {
   "cell_type": "code",
   "execution_count": 13,
   "metadata": {
    "id": "5gPAtp2tAJih",
    "outputId": "bd9cad6c-1fe1-4e71-e26e-3afa3723dd68"
   },
   "outputs": [
    {
     "data": {
      "text/plain": [
       "False"
      ]
     },
     "execution_count": 13,
     "metadata": {},
     "output_type": "execute_result"
    }
   ],
   "source": [
    "exp.isnull().any().any()"
   ]
  },
  {
   "cell_type": "markdown",
   "metadata": {
    "id": "CK6SiWPEAJih"
   },
   "source": [
    "Hence no column in the data have any null value"
   ]
  },
  {
   "cell_type": "markdown",
   "metadata": {
    "id": "8FiR92qYAJih"
   },
   "source": [
    "### Plotting our dataset as a hierarchically-clustered heatmap."
   ]
  },
  {
   "cell_type": "markdown",
   "metadata": {
    "id": "olEeGPO6AJih"
   },
   "source": [
    "Heatmap are easy tools for researchers to look about the features. Our eyes generally gather more attentions to colors rather than numeric data"
   ]
  },
  {
   "cell_type": "code",
   "execution_count": 14,
   "metadata": {
    "id": "X_Cws9L9AJih",
    "outputId": "8315bbc0-b622-4786-c88e-dc33a9eebcff",
    "scrolled": true
   },
   "outputs": [],
   "source": [
    "#sns.clustermap(exp)"
   ]
  },
  {
   "cell_type": "code",
   "execution_count": 15,
   "metadata": {
    "id": "bZ3dUlL2AJii",
    "outputId": "107176f9-4e2d-433a-9bd2-bebb2a932a40"
   },
   "outputs": [
    {
     "data": {
      "text/plain": [
       "Text(0.5, 1.0, 'Distribution of label types in Genes data')"
      ]
     },
     "execution_count": 15,
     "metadata": {},
     "output_type": "execute_result"
    },
    {
     "data": {
      "image/png": "[encoded data removed]",
      "text/plain": [
       "<Figure size 504x360 with 1 Axes>"
      ]
     },
     "metadata": {},
     "output_type": "display_data"
    }
   ],
   "source": [
    "# visualize distribution of labels\n",
    "fig = plt.figure(figsize=(7, 5))\n",
    "exp.index.value_counts().plot(kind='bar')\n",
    "plt.xticks(rotation=45)\n",
    "plt.ylabel('Number of occurences', fontsize=12, fontweight='bold')\n",
    "plt.xlabel('Sample type', fontsize=12, fontweight='bold')\n",
    "plt.title('Distribution of label types in Genes data', fontsize=14, fontweight='bold')"
   ]
  },
  {
   "cell_type": "markdown",
   "metadata": {
    "id": "QLtZCY9IAJii"
   },
   "source": [
    "Hence BRCA occurs the maximum times in our data."
   ]
  },
  {
   "cell_type": "markdown",
   "metadata": {
    "id": "CjV9ZVFaAJii"
   },
   "source": [
    "Let we explore the data further by taking transpose of the data we got."
   ]
  },
  {
   "cell_type": "code",
   "execution_count": 16,
   "metadata": {
    "id": "LDhsUJ8KAJii"
   },
   "outputs": [],
   "source": [
    "transpo_exp = exp.T"
   ]
  },
  {
   "cell_type": "code",
   "execution_count": 17,
   "metadata": {
    "id": "i2VXBpkdAJii",
    "outputId": "02d6934e-ceff-479e-b562-08ddf84a769c"
   },
   "outputs": [
    {
     "data": {
      "text/html": [
       "<div>\n",
       "<style scoped>\n",
       "    .dataframe tbody tr th:only-of-type {\n",
       "        vertical-align: middle;\n",
       "    }\n",
       "\n",
       "    .dataframe tbody tr th {\n",
       "        vertical-align: top;\n",
       "    }\n",
       "\n",
       "    .dataframe thead th {\n",
       "        text-align: right;\n",
       "    }\n",
       "</style>\n",
       "<table border=\"1\" class=\"dataframe\">\n",
       "  <thead>\n",
       "    <tr style=\"text-align: right;\">\n",
       "      <th>Class</th>\n",
       "      <th>BRCA</th>\n",
       "      <th>BRCA</th>\n",
       "      <th>BRCA</th>\n",
       "      <th>BRCA</th>\n",
       "      <th>BRCA</th>\n",
       "      <th>BRCA</th>\n",
       "      <th>BRCA</th>\n",
       "      <th>BRCA</th>\n",
       "      <th>BRCA</th>\n",
       "      <th>BRCA</th>\n",
       "      <th>...</th>\n",
       "      <th>PRAD</th>\n",
       "      <th>PRAD</th>\n",
       "      <th>PRAD</th>\n",
       "      <th>PRAD</th>\n",
       "      <th>PRAD</th>\n",
       "      <th>PRAD</th>\n",
       "      <th>PRAD</th>\n",
       "      <th>PRAD</th>\n",
       "      <th>PRAD</th>\n",
       "      <th>PRAD</th>\n",
       "    </tr>\n",
       "  </thead>\n",
       "  <tbody>\n",
       "    <tr>\n",
       "      <th>gene_0</th>\n",
       "      <td>0.000000</td>\n",
       "      <td>0.000000</td>\n",
       "      <td>0.000000</td>\n",
       "      <td>0.000000</td>\n",
       "      <td>0.000000</td>\n",
       "      <td>0.000000</td>\n",
       "      <td>0.000000</td>\n",
       "      <td>0.000000</td>\n",
       "      <td>0.000000</td>\n",
       "      <td>0.000000</td>\n",
       "      <td>...</td>\n",
       "      <td>0.000000</td>\n",
       "      <td>0.873341</td>\n",
       "      <td>0.000000</td>\n",
       "      <td>0.000000</td>\n",
       "      <td>0.000000</td>\n",
       "      <td>0.000000</td>\n",
       "      <td>0.000000</td>\n",
       "      <td>0.000000</td>\n",
       "      <td>0.000000</td>\n",
       "      <td>0.000000</td>\n",
       "    </tr>\n",
       "    <tr>\n",
       "      <th>gene_1</th>\n",
       "      <td>3.801873</td>\n",
       "      <td>3.277330</td>\n",
       "      <td>1.149975</td>\n",
       "      <td>4.538159</td>\n",
       "      <td>2.599770</td>\n",
       "      <td>2.568032</td>\n",
       "      <td>2.522156</td>\n",
       "      <td>2.543372</td>\n",
       "      <td>3.014962</td>\n",
       "      <td>2.215150</td>\n",
       "      <td>...</td>\n",
       "      <td>3.993285</td>\n",
       "      <td>1.978525</td>\n",
       "      <td>1.578649</td>\n",
       "      <td>3.086427</td>\n",
       "      <td>3.579301</td>\n",
       "      <td>3.190172</td>\n",
       "      <td>3.930822</td>\n",
       "      <td>2.676809</td>\n",
       "      <td>1.282262</td>\n",
       "      <td>2.325242</td>\n",
       "    </tr>\n",
       "    <tr>\n",
       "      <th>gene_2</th>\n",
       "      <td>5.025591</td>\n",
       "      <td>2.629846</td>\n",
       "      <td>0.462576</td>\n",
       "      <td>3.955722</td>\n",
       "      <td>2.562792</td>\n",
       "      <td>2.891341</td>\n",
       "      <td>2.916821</td>\n",
       "      <td>2.564476</td>\n",
       "      <td>3.355214</td>\n",
       "      <td>1.868845</td>\n",
       "      <td>...</td>\n",
       "      <td>5.367231</td>\n",
       "      <td>3.339465</td>\n",
       "      <td>2.090515</td>\n",
       "      <td>3.006101</td>\n",
       "      <td>3.432706</td>\n",
       "      <td>3.520573</td>\n",
       "      <td>4.049578</td>\n",
       "      <td>3.955629</td>\n",
       "      <td>2.998683</td>\n",
       "      <td>3.805932</td>\n",
       "    </tr>\n",
       "    <tr>\n",
       "      <th>gene_3</th>\n",
       "      <td>6.404150</td>\n",
       "      <td>6.000487</td>\n",
       "      <td>5.861427</td>\n",
       "      <td>6.259862</td>\n",
       "      <td>7.365491</td>\n",
       "      <td>7.864793</td>\n",
       "      <td>6.467187</td>\n",
       "      <td>6.299157</td>\n",
       "      <td>6.833712</td>\n",
       "      <td>6.287153</td>\n",
       "      <td>...</td>\n",
       "      <td>6.000973</td>\n",
       "      <td>5.970232</td>\n",
       "      <td>7.194708</td>\n",
       "      <td>6.645314</td>\n",
       "      <td>6.988014</td>\n",
       "      <td>7.210535</td>\n",
       "      <td>6.732256</td>\n",
       "      <td>6.639035</td>\n",
       "      <td>6.342914</td>\n",
       "      <td>6.530246</td>\n",
       "    </tr>\n",
       "    <tr>\n",
       "      <th>gene_4</th>\n",
       "      <td>9.564754</td>\n",
       "      <td>9.627027</td>\n",
       "      <td>10.092440</td>\n",
       "      <td>9.103243</td>\n",
       "      <td>10.462155</td>\n",
       "      <td>11.074610</td>\n",
       "      <td>10.010654</td>\n",
       "      <td>9.783317</td>\n",
       "      <td>9.487794</td>\n",
       "      <td>9.273963</td>\n",
       "      <td>...</td>\n",
       "      <td>9.852082</td>\n",
       "      <td>10.688906</td>\n",
       "      <td>10.290940</td>\n",
       "      <td>9.605192</td>\n",
       "      <td>9.470138</td>\n",
       "      <td>9.918593</td>\n",
       "      <td>9.806242</td>\n",
       "      <td>10.301165</td>\n",
       "      <td>9.983649</td>\n",
       "      <td>9.560367</td>\n",
       "    </tr>\n",
       "  </tbody>\n",
       "</table>\n",
       "<p>5 rows × 801 columns</p>\n",
       "</div>"
      ],
      "text/plain": [
       "Class       BRCA      BRCA       BRCA      BRCA       BRCA       BRCA  \\\n",
       "gene_0  0.000000  0.000000   0.000000  0.000000   0.000000   0.000000   \n",
       "gene_1  3.801873  3.277330   1.149975  4.538159   2.599770   2.568032   \n",
       "gene_2  5.025591  2.629846   0.462576  3.955722   2.562792   2.891341   \n",
       "gene_3  6.404150  6.000487   5.861427  6.259862   7.365491   7.864793   \n",
       "gene_4  9.564754  9.627027  10.092440  9.103243  10.462155  11.074610   \n",
       "\n",
       "Class        BRCA      BRCA      BRCA      BRCA  ...      PRAD       PRAD  \\\n",
       "gene_0   0.000000  0.000000  0.000000  0.000000  ...  0.000000   0.873341   \n",
       "gene_1   2.522156  2.543372  3.014962  2.215150  ...  3.993285   1.978525   \n",
       "gene_2   2.916821  2.564476  3.355214  1.868845  ...  5.367231   3.339465   \n",
       "gene_3   6.467187  6.299157  6.833712  6.287153  ...  6.000973   5.970232   \n",
       "gene_4  10.010654  9.783317  9.487794  9.273963  ...  9.852082  10.688906   \n",
       "\n",
       "Class        PRAD      PRAD      PRAD      PRAD      PRAD       PRAD  \\\n",
       "gene_0   0.000000  0.000000  0.000000  0.000000  0.000000   0.000000   \n",
       "gene_1   1.578649  3.086427  3.579301  3.190172  3.930822   2.676809   \n",
       "gene_2   2.090515  3.006101  3.432706  3.520573  4.049578   3.955629   \n",
       "gene_3   7.194708  6.645314  6.988014  7.210535  6.732256   6.639035   \n",
       "gene_4  10.290940  9.605192  9.470138  9.918593  9.806242  10.301165   \n",
       "\n",
       "Class       PRAD      PRAD  \n",
       "gene_0  0.000000  0.000000  \n",
       "gene_1  1.282262  2.325242  \n",
       "gene_2  2.998683  3.805932  \n",
       "gene_3  6.342914  6.530246  \n",
       "gene_4  9.983649  9.560367  \n",
       "\n",
       "[5 rows x 801 columns]"
      ]
     },
     "execution_count": 17,
     "metadata": {},
     "output_type": "execute_result"
    }
   ],
   "source": [
    "transpo_exp.head()"
   ]
  },
  {
   "cell_type": "code",
   "execution_count": 18,
   "metadata": {
    "id": "A4cZFfSfAJii"
   },
   "outputs": [
    {
     "name": "stdout",
     "output_type": "stream",
     "text": [
      "<class 'pandas.core.frame.DataFrame'>\n",
      "Index: 20531 entries, gene_0 to gene_20530\n",
      "Columns: 801 entries, BRCA to PRAD\n",
      "dtypes: float64(801)\n",
      "memory usage: 126.2+ MB\n"
     ]
    }
   ],
   "source": [
    "transpo_exp.info()"
   ]
  },
  {
   "cell_type": "code",
   "execution_count": 19,
   "metadata": {
    "id": "ufPyU1iIAJij",
    "outputId": "315bc438-386b-4ebf-eb22-73886183e068"
   },
   "outputs": [
    {
     "data": {
      "text/html": [
       "<div>\n",
       "<style scoped>\n",
       "    .dataframe tbody tr th:only-of-type {\n",
       "        vertical-align: middle;\n",
       "    }\n",
       "\n",
       "    .dataframe tbody tr th {\n",
       "        vertical-align: top;\n",
       "    }\n",
       "\n",
       "    .dataframe thead th {\n",
       "        text-align: right;\n",
       "    }\n",
       "</style>\n",
       "<table border=\"1\" class=\"dataframe\">\n",
       "  <thead>\n",
       "    <tr style=\"text-align: right;\">\n",
       "      <th>Class</th>\n",
       "      <th>BRCA</th>\n",
       "      <th>BRCA</th>\n",
       "      <th>BRCA</th>\n",
       "      <th>BRCA</th>\n",
       "      <th>BRCA</th>\n",
       "      <th>BRCA</th>\n",
       "      <th>BRCA</th>\n",
       "      <th>BRCA</th>\n",
       "      <th>BRCA</th>\n",
       "      <th>BRCA</th>\n",
       "      <th>...</th>\n",
       "      <th>PRAD</th>\n",
       "      <th>PRAD</th>\n",
       "      <th>PRAD</th>\n",
       "      <th>PRAD</th>\n",
       "      <th>PRAD</th>\n",
       "      <th>PRAD</th>\n",
       "      <th>PRAD</th>\n",
       "      <th>PRAD</th>\n",
       "      <th>PRAD</th>\n",
       "      <th>PRAD</th>\n",
       "    </tr>\n",
       "  </thead>\n",
       "  <tbody>\n",
       "    <tr>\n",
       "      <th>count</th>\n",
       "      <td>20531.000000</td>\n",
       "      <td>20531.000000</td>\n",
       "      <td>20531.000000</td>\n",
       "      <td>20531.000000</td>\n",
       "      <td>20531.000000</td>\n",
       "      <td>20531.000000</td>\n",
       "      <td>20531.000000</td>\n",
       "      <td>20531.000000</td>\n",
       "      <td>20531.000000</td>\n",
       "      <td>20531.000000</td>\n",
       "      <td>...</td>\n",
       "      <td>20531.000000</td>\n",
       "      <td>20531.000000</td>\n",
       "      <td>20531.000000</td>\n",
       "      <td>20531.000000</td>\n",
       "      <td>20531.000000</td>\n",
       "      <td>20531.000000</td>\n",
       "      <td>20531.000000</td>\n",
       "      <td>20531.000000</td>\n",
       "      <td>20531.000000</td>\n",
       "      <td>20531.000000</td>\n",
       "    </tr>\n",
       "    <tr>\n",
       "      <th>mean</th>\n",
       "      <td>6.557752</td>\n",
       "      <td>6.644628</td>\n",
       "      <td>6.155329</td>\n",
       "      <td>6.626141</td>\n",
       "      <td>6.396475</td>\n",
       "      <td>6.322263</td>\n",
       "      <td>6.288557</td>\n",
       "      <td>6.500574</td>\n",
       "      <td>6.415335</td>\n",
       "      <td>6.479712</td>\n",
       "      <td>...</td>\n",
       "      <td>6.438148</td>\n",
       "      <td>6.412983</td>\n",
       "      <td>6.312476</td>\n",
       "      <td>6.364915</td>\n",
       "      <td>6.651981</td>\n",
       "      <td>6.447557</td>\n",
       "      <td>6.396669</td>\n",
       "      <td>6.492097</td>\n",
       "      <td>6.594778</td>\n",
       "      <td>6.558847</td>\n",
       "    </tr>\n",
       "    <tr>\n",
       "      <th>std</th>\n",
       "      <td>3.981935</td>\n",
       "      <td>3.941968</td>\n",
       "      <td>4.187001</td>\n",
       "      <td>3.961697</td>\n",
       "      <td>4.064387</td>\n",
       "      <td>4.110591</td>\n",
       "      <td>4.125778</td>\n",
       "      <td>4.034278</td>\n",
       "      <td>4.069800</td>\n",
       "      <td>4.038053</td>\n",
       "      <td>...</td>\n",
       "      <td>4.038651</td>\n",
       "      <td>4.075581</td>\n",
       "      <td>4.073946</td>\n",
       "      <td>4.092079</td>\n",
       "      <td>3.952284</td>\n",
       "      <td>4.054061</td>\n",
       "      <td>4.051811</td>\n",
       "      <td>4.019520</td>\n",
       "      <td>3.980712</td>\n",
       "      <td>3.978511</td>\n",
       "    </tr>\n",
       "    <tr>\n",
       "      <th>min</th>\n",
       "      <td>0.000000</td>\n",
       "      <td>0.000000</td>\n",
       "      <td>0.000000</td>\n",
       "      <td>0.000000</td>\n",
       "      <td>0.000000</td>\n",
       "      <td>0.000000</td>\n",
       "      <td>0.000000</td>\n",
       "      <td>0.000000</td>\n",
       "      <td>0.000000</td>\n",
       "      <td>0.000000</td>\n",
       "      <td>...</td>\n",
       "      <td>0.000000</td>\n",
       "      <td>0.000000</td>\n",
       "      <td>0.000000</td>\n",
       "      <td>0.000000</td>\n",
       "      <td>0.000000</td>\n",
       "      <td>0.000000</td>\n",
       "      <td>0.000000</td>\n",
       "      <td>0.000000</td>\n",
       "      <td>0.000000</td>\n",
       "      <td>0.000000</td>\n",
       "    </tr>\n",
       "    <tr>\n",
       "      <th>25%</th>\n",
       "      <td>3.043939</td>\n",
       "      <td>3.274754</td>\n",
       "      <td>1.645886</td>\n",
       "      <td>3.110881</td>\n",
       "      <td>2.485865</td>\n",
       "      <td>2.293194</td>\n",
       "      <td>2.108239</td>\n",
       "      <td>2.751099</td>\n",
       "      <td>2.535804</td>\n",
       "      <td>2.694769</td>\n",
       "      <td>...</td>\n",
       "      <td>2.605647</td>\n",
       "      <td>2.582965</td>\n",
       "      <td>2.363757</td>\n",
       "      <td>2.388823</td>\n",
       "      <td>3.325127</td>\n",
       "      <td>2.649753</td>\n",
       "      <td>2.506040</td>\n",
       "      <td>2.809517</td>\n",
       "      <td>3.085561</td>\n",
       "      <td>2.968326</td>\n",
       "    </tr>\n",
       "    <tr>\n",
       "      <th>50%</th>\n",
       "      <td>7.693717</td>\n",
       "      <td>7.901663</td>\n",
       "      <td>7.365981</td>\n",
       "      <td>7.793863</td>\n",
       "      <td>7.477078</td>\n",
       "      <td>7.383592</td>\n",
       "      <td>7.508714</td>\n",
       "      <td>7.634913</td>\n",
       "      <td>7.662205</td>\n",
       "      <td>7.657597</td>\n",
       "      <td>...</td>\n",
       "      <td>7.525897</td>\n",
       "      <td>7.401332</td>\n",
       "      <td>7.350117</td>\n",
       "      <td>7.458940</td>\n",
       "      <td>7.818825</td>\n",
       "      <td>7.549292</td>\n",
       "      <td>7.456174</td>\n",
       "      <td>7.606139</td>\n",
       "      <td>7.760587</td>\n",
       "      <td>7.735597</td>\n",
       "    </tr>\n",
       "    <tr>\n",
       "      <th>75%</th>\n",
       "      <td>9.724256</td>\n",
       "      <td>9.752221</td>\n",
       "      <td>9.631643</td>\n",
       "      <td>9.738612</td>\n",
       "      <td>9.705734</td>\n",
       "      <td>9.683990</td>\n",
       "      <td>9.665126</td>\n",
       "      <td>9.713660</td>\n",
       "      <td>9.676893</td>\n",
       "      <td>9.720757</td>\n",
       "      <td>...</td>\n",
       "      <td>9.706009</td>\n",
       "      <td>9.671866</td>\n",
       "      <td>9.662099</td>\n",
       "      <td>9.689575</td>\n",
       "      <td>9.751830</td>\n",
       "      <td>9.706758</td>\n",
       "      <td>9.670270</td>\n",
       "      <td>9.716877</td>\n",
       "      <td>9.725421</td>\n",
       "      <td>9.707233</td>\n",
       "    </tr>\n",
       "    <tr>\n",
       "      <th>max</th>\n",
       "      <td>16.955116</td>\n",
       "      <td>17.170835</td>\n",
       "      <td>17.409996</td>\n",
       "      <td>17.266942</td>\n",
       "      <td>17.242541</td>\n",
       "      <td>17.404551</td>\n",
       "      <td>16.911415</td>\n",
       "      <td>20.778829</td>\n",
       "      <td>17.343698</td>\n",
       "      <td>18.492745</td>\n",
       "      <td>...</td>\n",
       "      <td>18.604495</td>\n",
       "      <td>19.518175</td>\n",
       "      <td>16.354284</td>\n",
       "      <td>19.410091</td>\n",
       "      <td>18.357346</td>\n",
       "      <td>19.469570</td>\n",
       "      <td>18.476703</td>\n",
       "      <td>17.933898</td>\n",
       "      <td>18.059339</td>\n",
       "      <td>16.864488</td>\n",
       "    </tr>\n",
       "  </tbody>\n",
       "</table>\n",
       "<p>8 rows × 801 columns</p>\n",
       "</div>"
      ],
      "text/plain": [
       "Class          BRCA          BRCA          BRCA          BRCA          BRCA  \\\n",
       "count  20531.000000  20531.000000  20531.000000  20531.000000  20531.000000   \n",
       "mean       6.557752      6.644628      6.155329      6.626141      6.396475   \n",
       "std        3.981935      3.941968      4.187001      3.961697      4.064387   \n",
       "min        0.000000      0.000000      0.000000      0.000000      0.000000   \n",
       "25%        3.043939      3.274754      1.645886      3.110881      2.485865   \n",
       "50%        7.693717      7.901663      7.365981      7.793863      7.477078   \n",
       "75%        9.724256      9.752221      9.631643      9.738612      9.705734   \n",
       "max       16.955116     17.170835     17.409996     17.266942     17.242541   \n",
       "\n",
       "Class          BRCA          BRCA          BRCA          BRCA          BRCA  \\\n",
       "count  20531.000000  20531.000000  20531.000000  20531.000000  20531.000000   \n",
       "mean       6.322263      6.288557      6.500574      6.415335      6.479712   \n",
       "std        4.110591      4.125778      4.034278      4.069800      4.038053   \n",
       "min        0.000000      0.000000      0.000000      0.000000      0.000000   \n",
       "25%        2.293194      2.108239      2.751099      2.535804      2.694769   \n",
       "50%        7.383592      7.508714      7.634913      7.662205      7.657597   \n",
       "75%        9.683990      9.665126      9.713660      9.676893      9.720757   \n",
       "max       17.404551     16.911415     20.778829     17.343698     18.492745   \n",
       "\n",
       "Class  ...          PRAD          PRAD          PRAD          PRAD  \\\n",
       "count  ...  20531.000000  20531.000000  20531.000000  20531.000000   \n",
       "mean   ...      6.438148      6.412983      6.312476      6.364915   \n",
       "std    ...      4.038651      4.075581      4.073946      4.092079   \n",
       "min    ...      0.000000      0.000000      0.000000      0.000000   \n",
       "25%    ...      2.605647      2.582965      2.363757      2.388823   \n",
       "50%    ...      7.525897      7.401332      7.350117      7.458940   \n",
       "75%    ...      9.706009      9.671866      9.662099      9.689575   \n",
       "max    ...     18.604495     19.518175     16.354284     19.410091   \n",
       "\n",
       "Class          PRAD          PRAD          PRAD          PRAD          PRAD  \\\n",
       "count  20531.000000  20531.000000  20531.000000  20531.000000  20531.000000   \n",
       "mean       6.651981      6.447557      6.396669      6.492097      6.594778   \n",
       "std        3.952284      4.054061      4.051811      4.019520      3.980712   \n",
       "min        0.000000      0.000000      0.000000      0.000000      0.000000   \n",
       "25%        3.325127      2.649753      2.506040      2.809517      3.085561   \n",
       "50%        7.818825      7.549292      7.456174      7.606139      7.760587   \n",
       "75%        9.751830      9.706758      9.670270      9.716877      9.725421   \n",
       "max       18.357346     19.469570     18.476703     17.933898     18.059339   \n",
       "\n",
       "Class          PRAD  \n",
       "count  20531.000000  \n",
       "mean       6.558847  \n",
       "std        3.978511  \n",
       "min        0.000000  \n",
       "25%        2.968326  \n",
       "50%        7.735597  \n",
       "75%        9.707233  \n",
       "max       16.864488  \n",
       "\n",
       "[8 rows x 801 columns]"
      ]
     },
     "execution_count": 19,
     "metadata": {},
     "output_type": "execute_result"
    }
   ],
   "source": [
    "transpo_exp.describe()"
   ]
  },
  {
   "cell_type": "markdown",
   "metadata": {
    "id": "9sK5BC-BAJij"
   },
   "source": [
    "So the range again of each gene classification expression value from 0 to 20+"
   ]
  },
  {
   "cell_type": "markdown",
   "metadata": {
    "id": "Z12hnFomAJij"
   },
   "source": [
    "## Data Preparation"
   ]
  },
  {
   "cell_type": "code",
   "execution_count": 20,
   "metadata": {
    "id": "i4T7nWx_AJij",
    "outputId": "2178be5e-2170-48e5-ca52-7aaf5eb8beee"
   },
   "outputs": [
    {
     "data": {
      "text/plain": [
       "20531"
      ]
     },
     "execution_count": 20,
     "metadata": {},
     "output_type": "execute_result"
    }
   ],
   "source": [
    "features = list(exp.columns.values)\n",
    "len(features)"
   ]
  },
  {
   "cell_type": "code",
   "execution_count": 21,
   "metadata": {
    "id": "pKsjWR8QAJij"
   },
   "outputs": [],
   "source": [
    "x = rna_exp[features].reset_index(drop=True)\n",
    "y = labels"
   ]
  },
  {
   "cell_type": "code",
   "execution_count": 22,
   "metadata": {
    "id": "dWgQNISgAJij",
    "outputId": "dff7467d-7095-4c16-b103-55719f518b69"
   },
   "outputs": [
    {
     "data": {
      "text/html": [
       "<div>\n",
       "<style scoped>\n",
       "    .dataframe tbody tr th:only-of-type {\n",
       "        vertical-align: middle;\n",
       "    }\n",
       "\n",
       "    .dataframe tbody tr th {\n",
       "        vertical-align: top;\n",
       "    }\n",
       "\n",
       "    .dataframe thead th {\n",
       "        text-align: right;\n",
       "    }\n",
       "</style>\n",
       "<table border=\"1\" class=\"dataframe\">\n",
       "  <thead>\n",
       "    <tr style=\"text-align: right;\">\n",
       "      <th></th>\n",
       "      <th>gene_0</th>\n",
       "      <th>gene_1</th>\n",
       "      <th>gene_2</th>\n",
       "      <th>gene_3</th>\n",
       "      <th>gene_4</th>\n",
       "      <th>gene_5</th>\n",
       "      <th>gene_6</th>\n",
       "      <th>gene_7</th>\n",
       "      <th>gene_8</th>\n",
       "      <th>gene_9</th>\n",
       "      <th>...</th>\n",
       "      <th>gene_20521</th>\n",
       "      <th>gene_20522</th>\n",
       "      <th>gene_20523</th>\n",
       "      <th>gene_20524</th>\n",
       "      <th>gene_20525</th>\n",
       "      <th>gene_20526</th>\n",
       "      <th>gene_20527</th>\n",
       "      <th>gene_20528</th>\n",
       "      <th>gene_20529</th>\n",
       "      <th>gene_20530</th>\n",
       "    </tr>\n",
       "  </thead>\n",
       "  <tbody>\n",
       "    <tr>\n",
       "      <th>0</th>\n",
       "      <td>0.0</td>\n",
       "      <td>2.017209</td>\n",
       "      <td>3.265527</td>\n",
       "      <td>5.478487</td>\n",
       "      <td>10.431999</td>\n",
       "      <td>0.0</td>\n",
       "      <td>7.175175</td>\n",
       "      <td>0.591871</td>\n",
       "      <td>0.0</td>\n",
       "      <td>0.0</td>\n",
       "      <td>...</td>\n",
       "      <td>4.926711</td>\n",
       "      <td>8.210257</td>\n",
       "      <td>9.723516</td>\n",
       "      <td>7.220030</td>\n",
       "      <td>9.119813</td>\n",
       "      <td>12.003135</td>\n",
       "      <td>9.650743</td>\n",
       "      <td>8.921326</td>\n",
       "      <td>5.286759</td>\n",
       "      <td>0.0</td>\n",
       "    </tr>\n",
       "    <tr>\n",
       "      <th>1</th>\n",
       "      <td>0.0</td>\n",
       "      <td>0.592732</td>\n",
       "      <td>1.588421</td>\n",
       "      <td>7.586157</td>\n",
       "      <td>9.623011</td>\n",
       "      <td>0.0</td>\n",
       "      <td>6.816049</td>\n",
       "      <td>0.000000</td>\n",
       "      <td>0.0</td>\n",
       "      <td>0.0</td>\n",
       "      <td>...</td>\n",
       "      <td>4.593372</td>\n",
       "      <td>7.323865</td>\n",
       "      <td>9.740931</td>\n",
       "      <td>6.256586</td>\n",
       "      <td>8.381612</td>\n",
       "      <td>12.674552</td>\n",
       "      <td>10.517059</td>\n",
       "      <td>9.397854</td>\n",
       "      <td>2.094168</td>\n",
       "      <td>0.0</td>\n",
       "    </tr>\n",
       "    <tr>\n",
       "      <th>2</th>\n",
       "      <td>0.0</td>\n",
       "      <td>3.511759</td>\n",
       "      <td>4.327199</td>\n",
       "      <td>6.881787</td>\n",
       "      <td>9.870730</td>\n",
       "      <td>0.0</td>\n",
       "      <td>6.972130</td>\n",
       "      <td>0.452595</td>\n",
       "      <td>0.0</td>\n",
       "      <td>0.0</td>\n",
       "      <td>...</td>\n",
       "      <td>5.125213</td>\n",
       "      <td>8.127123</td>\n",
       "      <td>10.908640</td>\n",
       "      <td>5.401607</td>\n",
       "      <td>9.911597</td>\n",
       "      <td>9.045255</td>\n",
       "      <td>9.788359</td>\n",
       "      <td>10.090470</td>\n",
       "      <td>1.683023</td>\n",
       "      <td>0.0</td>\n",
       "    </tr>\n",
       "    <tr>\n",
       "      <th>3</th>\n",
       "      <td>0.0</td>\n",
       "      <td>3.663618</td>\n",
       "      <td>4.507649</td>\n",
       "      <td>6.659068</td>\n",
       "      <td>10.196184</td>\n",
       "      <td>0.0</td>\n",
       "      <td>7.843375</td>\n",
       "      <td>0.434882</td>\n",
       "      <td>0.0</td>\n",
       "      <td>0.0</td>\n",
       "      <td>...</td>\n",
       "      <td>6.076566</td>\n",
       "      <td>8.792959</td>\n",
       "      <td>10.141520</td>\n",
       "      <td>8.942805</td>\n",
       "      <td>9.601208</td>\n",
       "      <td>11.392682</td>\n",
       "      <td>9.694814</td>\n",
       "      <td>9.684365</td>\n",
       "      <td>3.292001</td>\n",
       "      <td>0.0</td>\n",
       "    </tr>\n",
       "    <tr>\n",
       "      <th>4</th>\n",
       "      <td>0.0</td>\n",
       "      <td>2.655741</td>\n",
       "      <td>2.821547</td>\n",
       "      <td>6.539454</td>\n",
       "      <td>9.738265</td>\n",
       "      <td>0.0</td>\n",
       "      <td>6.566967</td>\n",
       "      <td>0.360982</td>\n",
       "      <td>0.0</td>\n",
       "      <td>0.0</td>\n",
       "      <td>...</td>\n",
       "      <td>5.996032</td>\n",
       "      <td>8.891425</td>\n",
       "      <td>10.373790</td>\n",
       "      <td>7.181162</td>\n",
       "      <td>9.846910</td>\n",
       "      <td>11.922439</td>\n",
       "      <td>9.217749</td>\n",
       "      <td>9.461191</td>\n",
       "      <td>5.110372</td>\n",
       "      <td>0.0</td>\n",
       "    </tr>\n",
       "  </tbody>\n",
       "</table>\n",
       "<p>5 rows × 20531 columns</p>\n",
       "</div>"
      ],
      "text/plain": [
       "   gene_0    gene_1    gene_2    gene_3     gene_4  gene_5    gene_6  \\\n",
       "0     0.0  2.017209  3.265527  5.478487  10.431999     0.0  7.175175   \n",
       "1     0.0  0.592732  1.588421  7.586157   9.623011     0.0  6.816049   \n",
       "2     0.0  3.511759  4.327199  6.881787   9.870730     0.0  6.972130   \n",
       "3     0.0  3.663618  4.507649  6.659068  10.196184     0.0  7.843375   \n",
       "4     0.0  2.655741  2.821547  6.539454   9.738265     0.0  6.566967   \n",
       "\n",
       "     gene_7  gene_8  gene_9  ...  gene_20521  gene_20522  gene_20523  \\\n",
       "0  0.591871     0.0     0.0  ...    4.926711    8.210257    9.723516   \n",
       "1  0.000000     0.0     0.0  ...    4.593372    7.323865    9.740931   \n",
       "2  0.452595     0.0     0.0  ...    5.125213    8.127123   10.908640   \n",
       "3  0.434882     0.0     0.0  ...    6.076566    8.792959   10.141520   \n",
       "4  0.360982     0.0     0.0  ...    5.996032    8.891425   10.373790   \n",
       "\n",
       "   gene_20524  gene_20525  gene_20526  gene_20527  gene_20528  gene_20529  \\\n",
       "0    7.220030    9.119813   12.003135    9.650743    8.921326    5.286759   \n",
       "1    6.256586    8.381612   12.674552   10.517059    9.397854    2.094168   \n",
       "2    5.401607    9.911597    9.045255    9.788359   10.090470    1.683023   \n",
       "3    8.942805    9.601208   11.392682    9.694814    9.684365    3.292001   \n",
       "4    7.181162    9.846910   11.922439    9.217749    9.461191    5.110372   \n",
       "\n",
       "   gene_20530  \n",
       "0         0.0  \n",
       "1         0.0  \n",
       "2         0.0  \n",
       "3         0.0  \n",
       "4         0.0  \n",
       "\n",
       "[5 rows x 20531 columns]"
      ]
     },
     "execution_count": 22,
     "metadata": {},
     "output_type": "execute_result"
    }
   ],
   "source": [
    "x.head()"
   ]
  },
  {
   "cell_type": "code",
   "execution_count": 23,
   "metadata": {
    "id": "jyTAoeU1AJik"
   },
   "outputs": [],
   "source": [
    "y.index = np.arange(0,801)"
   ]
  },
  {
   "cell_type": "markdown",
   "metadata": {
    "id": "P6cjihN2AJik"
   },
   "source": [
    "we scale our data such that each feature has unit variance. This is necessary because fitting algorithms highly depend on the scaling of the features. Here we use the StandardScaler module for scaling the features individually. StandardScaler subtracts the mean from each feature and then scales to unit variance."
   ]
  },
  {
   "cell_type": "code",
   "execution_count": 24,
   "metadata": {
    "id": "dLW_7EWIAJik"
   },
   "outputs": [],
   "source": [
    "scaler = StandardScaler()\n",
    "scaled_data = scaler.fit_transform(x)"
   ]
  },
  {
   "cell_type": "code",
   "execution_count": 25,
   "metadata": {
    "id": "V6EyODHZAJik",
    "outputId": "72825cc9-7159-4ccf-a4e2-f3b6681ac0f8"
   },
   "outputs": [
    {
     "data": {
      "text/plain": [
       "array([[-0.19479935, -0.82802988,  0.15980044, ..., -1.18793812,\n",
       "        -0.11648251, -0.26190144],\n",
       "       [-0.19479935, -2.01501735, -1.415042  , ..., -0.34227662,\n",
       "        -1.65688871, -0.26190144],\n",
       "       [-0.19479935,  0.41734754,  1.15673547, ...,  0.88686027,\n",
       "        -1.85526414, -0.26190144],\n",
       "       ...,\n",
       "       [-0.19479935,  0.19888076,  0.57481583, ..., -0.22008186,\n",
       "        -0.41046699,  1.3485582 ],\n",
       "       [-0.19479935, -0.35045311, -0.28863152, ...,  1.43719268,\n",
       "         0.09195083, -0.26190144],\n",
       "       [-0.19479935, -0.57135218,  0.66725377, ...,  0.45087581,\n",
       "        -0.47161901, -0.26190144]])"
      ]
     },
     "execution_count": 25,
     "metadata": {},
     "output_type": "execute_result"
    }
   ],
   "source": [
    "scaled_data"
   ]
  },
  {
   "cell_type": "markdown",
   "metadata": {
    "id": "Y8EmTpB-AJik"
   },
   "source": [
    "**Null Hypothesis testing for few features we have**"
   ]
  },
  {
   "cell_type": "markdown",
   "metadata": {
    "id": "sfOVSYvgAJik"
   },
   "source": [
    "We have 5 categories of the output response. Let we test whether the all 5 categories are similar to one another or not based upon the gene expression of our very first 0th column."
   ]
  },
  {
   "cell_type": "code",
   "execution_count": 26,
   "metadata": {
    "id": "QEFup2iBAJik"
   },
   "outputs": [],
   "source": [
    "# for this statistical method we will use statsmodel for feature selection using backward elimination\n",
    "#! pip install statsmodels"
   ]
  },
  {
   "cell_type": "code",
   "execution_count": 27,
   "metadata": {
    "id": "ZfuHzcXiAJik"
   },
   "outputs": [],
   "source": [
    "from scipy import stats"
   ]
  },
  {
   "cell_type": "code",
   "execution_count": 28,
   "metadata": {
    "id": "veGlUSDfAJik"
   },
   "outputs": [],
   "source": [
    "grps = pd.unique(y['Class'])\n",
    "d_data = {grp:x['gene_0'][y.Class == grp] for grp in grps}"
   ]
  },
  {
   "cell_type": "markdown",
   "metadata": {
    "id": "Ye0TOzE-AJik"
   },
   "source": [
    "so our data is ready and now let we put 5% threshold that if our p-value comes under 5% we can reject the null hypothesis for gene_0 other-wise we can accept it."
   ]
  },
  {
   "cell_type": "code",
   "execution_count": 29,
   "metadata": {
    "id": "CXUJSbMrAJik",
    "outputId": "c2eccb56-2e7a-4d8d-cbde-7f7d4dd45642"
   },
   "outputs": [
    {
     "name": "stdout",
     "output_type": "stream",
     "text": [
      "p-value for significance is:  0.07505540778266195\n",
      "accept null hypothesis\n"
     ]
    }
   ],
   "source": [
    "F, p = stats.f_oneway(d_data['PRAD'], d_data['LUAD'], d_data['BRCA'],d_data['KIRC'],d_data['COAD'])\n",
    "\n",
    "print(\"p-value for significance is: \", p)\n",
    "\n",
    "if p<0.05:\n",
    "    print(\"reject null hypothesis\")\n",
    "else:\n",
    "    print(\"accept null hypothesis\")"
   ]
  },
  {
   "cell_type": "markdown",
   "metadata": {
    "id": "2g61mga7AJil"
   },
   "source": [
    "So we accepting this null hypothesis of all the catories are almost similar which is not true. Hence this gene_0 may not be better fit to classify cancer of the patients."
   ]
  },
  {
   "cell_type": "markdown",
   "metadata": {
    "id": "Wggt0GElAJil"
   },
   "source": [
    "let we check for gene_1 and gene_2"
   ]
  },
  {
   "cell_type": "code",
   "execution_count": 30,
   "metadata": {
    "id": "ahc9g321AJil",
    "outputId": "6dec883d-5d73-41c3-81c8-b280503f64c5"
   },
   "outputs": [
    {
     "name": "stdout",
     "output_type": "stream",
     "text": [
      "p-value for significance is:  4.315349359726914e-18\n",
      "reject null hypothesis\n"
     ]
    }
   ],
   "source": [
    "d_data = {grp:x['gene_1'][y.Class == grp] for grp in grps}\n",
    "F, p = stats.f_oneway(d_data['PRAD'], d_data['LUAD'], d_data['BRCA'],d_data['KIRC'],d_data['COAD'])\n",
    "\n",
    "print(\"p-value for significance is: \", p)\n",
    "\n",
    "if p<0.05:\n",
    "    print(\"reject null hypothesis\")\n",
    "else:\n",
    "    print(\"accept null hypothesis\")"
   ]
  },
  {
   "cell_type": "code",
   "execution_count": 31,
   "metadata": {
    "id": "zjklWkF_AJil",
    "outputId": "7cb790b4-07d3-4426-a7d8-2f7167443330"
   },
   "outputs": [
    {
     "name": "stdout",
     "output_type": "stream",
     "text": [
      "p-value for significance is:  2.1468844023159446e-44\n",
      "reject null hypothesis\n"
     ]
    }
   ],
   "source": [
    "d_data = {grp:x['gene_2'][y.Class == grp] for grp in grps}\n",
    "F, p = stats.f_oneway(d_data['PRAD'], d_data['LUAD'], d_data['BRCA'],d_data['KIRC'],d_data['COAD'])\n",
    "\n",
    "print(\"p-value for significance is: \", p)\n",
    "\n",
    "if p<0.05:\n",
    "    print(\"reject null hypothesis\")\n",
    "else:\n",
    "    print(\"accept null hypothesis\")"
   ]
  },
  {
   "cell_type": "code",
   "execution_count": 32,
   "metadata": {
    "id": "piAF9WKeAJil",
    "outputId": "4417145b-e5ee-41be-a1a1-15ef6bf5157e"
   },
   "outputs": [
    {
     "name": "stdout",
     "output_type": "stream",
     "text": [
      "p-value for significance is:  5.472971016870503e-77\n",
      "reject null hypothesis\n"
     ]
    }
   ],
   "source": [
    "d_data = {grp:x['gene_3'][y.Class == grp] for grp in grps}\n",
    "F, p = stats.f_oneway(d_data['PRAD'], d_data['LUAD'], d_data['BRCA'],d_data['KIRC'],d_data['COAD'])\n",
    "\n",
    "print(\"p-value for significance is: \", p)\n",
    "\n",
    "if p<0.05:\n",
    "    print(\"reject null hypothesis\")\n",
    "else:\n",
    "    print(\"accept null hypothesis\")"
   ]
  },
  {
   "cell_type": "markdown",
   "metadata": {
    "id": "sAhFHDXxAJil"
   },
   "source": [
    "*Hence we are getting enough evidence based upon the p-value based upon we can reject the hypothesis that all 5 categories are not similar based upon the evidence we got from gene 1,2,3*"
   ]
  },
  {
   "cell_type": "markdown",
   "metadata": {},
   "source": [
    "## Task 2 : Dimensionality Reduction"
   ]
  },
  {
   "cell_type": "markdown",
   "metadata": {},
   "source": [
    "**The first method of feature reduction is correlation**"
   ]
  },
  {
   "cell_type": "code",
   "execution_count": null,
   "metadata": {},
   "outputs": [],
   "source": [
    "dfCorr = rna_exp.corr()\n",
    "filteredDF = dfCorr[((dfCorr >= 0.5) | (dfCorr <= -0.5)) & dfCorr != 1.0]"
   ]
  },
  {
   "cell_type": "code",
   "execution_count": null,
   "metadata": {},
   "outputs": [],
   "source": [
    "plt.figure(figsize=(30,10))\n",
    "\n",
    "sns.heatmap(filteredDF,annot=True,cmap=\"Reds\")\n",
    "\n",
    "plt.show()"
   ]
  },
  {
   "cell_type": "code",
   "execution_count": null,
   "metadata": {},
   "outputs": [],
   "source": []
  }
 ],
 "metadata": {
  "colab": {
   "collapsed_sections": [
    "8FiR92qYAJih",
    "Z12hnFomAJij",
    "WIOuZMaVAJil",
    "CdT1-4RsAJin",
    "n5n8wb1SAJio",
    "KGtFXRErAJip",
    "On0zs711AJiu",
    "dSMHkWykAJiw",
    "y8FoHArRAJiw"
   ],
   "name": "2.RNA Sequence Analysis to detect cancer.ipynb",
   "provenance": []
  },
  "kernelspec": {
   "display_name": "Python 3",
   "language": "python",
   "name": "python3"
  },
  "language_info": {
   "codemirror_mode": {
    "name": "ipython",
    "version": 3
   },
   "file_extension": ".py",
   "mimetype": "text/x-python",
   "name": "python",
   "nbconvert_exporter": "python",
   "pygments_lexer": "ipython3",
   "version": "3.8.3"
  }
 },
 "nbformat": 4,
 "nbformat_minor": 1
}
